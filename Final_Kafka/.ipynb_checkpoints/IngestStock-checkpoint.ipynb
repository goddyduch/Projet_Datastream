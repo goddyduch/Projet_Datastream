{
 "cells": [
  {
   "cell_type": "code",
   "execution_count": 1,
   "id": "501ecb53-6eaf-4d6c-8687-1b2f8c588532",
   "metadata": {},
   "outputs": [],
   "source": [
    "from kafka import KafkaConsumer\n",
    "from kafka import KafkaProducer\n",
    "\n",
    "import yfinance as yf\n",
    "import pandas as pd \n",
    "import requests\n",
    "import json\n",
    "import urllib.request\n",
    "import time\n",
    "from datetime import datetime\n",
    "\n",
    "#OUVRIR KAFKA \n",
    "# bin/zookeeper-server-start.sh config/zookeeper.properties\n",
    "# bin/kafka-server-start.sh config/server.properties\n",
    "\n",
    "\n",
    "#A METTRE EN LIGNE DE COMMANDE  CREATION TOPIC \n",
    "#bin/kafka-topics.sh --create --topic Nasdaq --bootstrap-server localhost:9092\n",
    "#bin/kafka-topics.sh --create --topic cac40 --bootstrap-server localhost:9092 "
   ]
  },
  {
   "cell_type": "code",
   "execution_count": 5,
   "id": "ea33197b-cfd4-434f-9964-cbf44ad2d884",
   "metadata": {},
   "outputs": [
    {
     "name": "stdout",
     "output_type": "stream",
     "text": [
      "CACA40 {\n",
      "   \"2023-01-12 20:30:19.935297\": \"6975.68\",\n",
      "   \"2023-01-12 20:30:23.221277\": \"6975.68\",\n",
      "   \"2023-01-12 20:30:25.987749\": \"6975.68\"\n",
      "}\n",
      "Nasdaq {\n",
      "   \"2023-01-12 20:30:21.495521\": \"11548\",\n",
      "   \"2023-01-12 20:30:24.039460\": \"11549\",\n",
      "   \"2023-01-12 20:30:26.666777\": \"11551.25\"\n",
      "}\n",
      "CACA40 {\n",
      "   \"2023-01-12 20:30:28.447589\": \"6975.68\",\n",
      "   \"2023-01-12 20:30:31.203387\": \"6975.68\",\n",
      "   \"2023-01-12 20:30:33.706761\": \"6975.68\"\n",
      "}\n",
      "Nasdaq {\n",
      "   \"2023-01-12 20:30:29.280224\": \"11551.75\",\n",
      "   \"2023-01-12 20:30:32.056224\": \"11550.75\",\n",
      "   \"2023-01-12 20:30:34.816513\": \"11550.75\"\n",
      "}\n",
      "CACA40 {\n",
      "   \"2023-01-12 20:30:36.766854\": \"6975.68\",\n",
      "   \"2023-01-12 20:30:39.603725\": \"6975.68\",\n",
      "   \"2023-01-12 20:30:42.573642\": \"6975.68\"\n",
      "}\n",
      "Nasdaq {\n",
      "   \"2023-01-12 20:30:37.587879\": \"11550.75\",\n",
      "   \"2023-01-12 20:30:40.650439\": \"11551.75\",\n",
      "   \"2023-01-12 20:30:43.424448\": \"11551\"\n",
      "}\n"
     ]
    }
   ],
   "source": [
    "producer = KafkaProducer(bootstrap_servers=\"localhost:9092\",value_serializer=lambda v: json.dumps(v).encode('utf-8'))\n",
    "\n",
    "indice_CAC40 = \"^FCHI\"\n",
    "indice_nasdaq = \"NQ=F\"\n",
    "ticker = [indice_CAC40,indice_nasdaq]\n",
    "\n",
    "topic_cac40 = \"cac40\"\n",
    "topic_nasdaq = 'Nasdaq'\n",
    "\n",
    "\n",
    "compteur = 0 \n",
    "test = 0\n",
    "while test<3:\n",
    "    compteur = 0 \n",
    "    test +=1\n",
    "    stockCAC40 = dict()\n",
    "    stockNASDAQ = dict()\n",
    "    while compteur<5 : \n",
    "        for indice in ticker:\n",
    "            company = yf.Ticker(indice)\n",
    "            current_dateTime = datetime.now()\n",
    "            if indice == indice_CAC40 :\n",
    "                stockCAC40[str(current_dateTime)] = str(company.info[\"regularMarketPrice\"])\n",
    "                \n",
    "            if indice ==indice_nasdaq : \n",
    "                 stockNASDAQ[str(current_dateTime)] = str(company.info[\"regularMarketPrice\"])\n",
    "            \n",
    "        compteur+=2\n",
    "        time.sleep(1)\n",
    "    \n",
    "    message1 = json.dumps(stockCAC40,indent=3)\n",
    "    producer.send(topic_cac40, message1)\n",
    "    \n",
    "    message2 = json.dumps(stockNASDAQ,indent=3)\n",
    "    producer.send(topic_nasdaq, message2)\n",
    "    \n",
    "    print(\"CACA40\",message1)\n",
    "    print(\"Nasdaq\",message2)\n",
    "   \n",
    "\n",
    "   "
   ]
  },
  {
   "cell_type": "code",
   "execution_count": null,
   "id": "20cab576-3e58-494d-9900-70c247aa27cd",
   "metadata": {},
   "outputs": [],
   "source": []
  }
 ],
 "metadata": {
  "kernelspec": {
   "display_name": "Python 3 (ipykernel)",
   "language": "python",
   "name": "python3"
  },
  "language_info": {
   "codemirror_mode": {
    "name": "ipython",
    "version": 3
   },
   "file_extension": ".py",
   "mimetype": "text/x-python",
   "name": "python",
   "nbconvert_exporter": "python",
   "pygments_lexer": "ipython3",
   "version": "3.9.12"
  }
 },
 "nbformat": 4,
 "nbformat_minor": 5
}
