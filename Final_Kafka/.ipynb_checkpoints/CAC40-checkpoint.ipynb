{
 "cells": [
  {
   "cell_type": "code",
   "execution_count": 1,
   "id": "dffd2132-169f-4ab9-bc18-7fb69db3d607",
   "metadata": {},
   "outputs": [],
   "source": [
    "import time\n",
    "import json\n",
    "from kafka import KafkaConsumer\n",
    "from kafka import KafkaProducer\n",
    "import datetime\n",
    "import pandas as pd"
   ]
  },
  {
   "cell_type": "code",
   "execution_count": 2,
   "id": "9b27fa41-2a89-485c-99be-51e15e36e50e",
   "metadata": {},
   "outputs": [],
   "source": [
    "def Formatage(dictionnaire):  \n",
    "    date = [x for x in msg]\n",
    "    price = [x for x in msg.values()]\n",
    "    maximum = max(price)\n",
    "    minimum = min(price)\n",
    "\n",
    "    df = pd.DataFrame({'Date':date ,'Price':price})\n",
    "    df.insert(2, \"max\", maximum, allow_duplicates=False)\n",
    "    df.insert(3, \"min\", maximum, allow_duplicates=False)\n",
    "    return df"
   ]
  },
  {
   "cell_type": "code",
   "execution_count": null,
   "id": "b0434f03-4a4c-4cca-a6c3-4b90cc2431e3",
   "metadata": {},
   "outputs": [
    {
     "name": "stdout",
     "output_type": "stream",
     "text": [
      "                         Date    Price      max      min\n",
      "0  2023-01-12 20:28:56.897941  6975.68  6975.68  6975.68\n",
      "1  2023-01-12 20:29:00.278712  6975.68  6975.68  6975.68\n",
      "2  2023-01-12 20:29:03.064893  6975.68  6975.68  6975.68\n",
      "                         Date    Price      max      min\n",
      "0  2023-01-12 20:29:05.812508  6975.68  6975.68  6975.68\n",
      "1  2023-01-12 20:29:08.563258  6975.68  6975.68  6975.68\n",
      "2  2023-01-12 20:29:12.703479  6975.68  6975.68  6975.68\n",
      "                         Date    Price      max      min\n",
      "0  2023-01-12 20:29:15.627325  6975.68  6975.68  6975.68\n",
      "1  2023-01-12 20:29:18.093631  6975.68  6975.68  6975.68\n",
      "2  2023-01-12 20:29:20.909632  6975.68  6975.68  6975.68\n",
      "                         Date    Price      max      min\n",
      "0  2023-01-12 20:30:19.935297  6975.68  6975.68  6975.68\n",
      "1  2023-01-12 20:30:23.221277  6975.68  6975.68  6975.68\n",
      "2  2023-01-12 20:30:25.987749  6975.68  6975.68  6975.68\n",
      "                         Date    Price      max      min\n",
      "0  2023-01-12 20:30:28.447589  6975.68  6975.68  6975.68\n",
      "1  2023-01-12 20:30:31.203387  6975.68  6975.68  6975.68\n",
      "2  2023-01-12 20:30:33.706761  6975.68  6975.68  6975.68\n",
      "                         Date    Price      max      min\n",
      "0  2023-01-12 20:30:36.766854  6975.68  6975.68  6975.68\n",
      "1  2023-01-12 20:30:39.603725  6975.68  6975.68  6975.68\n",
      "2  2023-01-12 20:30:42.573642  6975.68  6975.68  6975.68\n"
     ]
    }
   ],
   "source": [
    "topic_cac40 = \"cac40\"\n",
    "\n",
    "consumer = KafkaConsumer(topic_cac40, bootstrap_servers=\"localhost:9092\",value_deserializer=lambda x: json.loads(x.decode('utf-8')))\n",
    "\n",
    "for msg in consumer:\n",
    "    msg = json.loads(msg.value)\n",
    "    print(Formatage(msg))"
   ]
  },
  {
   "cell_type": "code",
   "execution_count": null,
   "id": "b1cfb9bd-7e09-4916-8b04-b11e9631c85b",
   "metadata": {},
   "outputs": [],
   "source": []
  }
 ],
 "metadata": {
  "kernelspec": {
   "display_name": "Python 3 (ipykernel)",
   "language": "python",
   "name": "python3"
  },
  "language_info": {
   "codemirror_mode": {
    "name": "ipython",
    "version": 3
   },
   "file_extension": ".py",
   "mimetype": "text/x-python",
   "name": "python",
   "nbconvert_exporter": "python",
   "pygments_lexer": "ipython3",
   "version": "3.9.12"
  }
 },
 "nbformat": 4,
 "nbformat_minor": 5
}
