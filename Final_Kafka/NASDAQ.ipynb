{
 "cells": [
  {
   "cell_type": "code",
   "execution_count": 1,
   "id": "20fcabf2-45bd-4a6e-9e86-c8a9399a7127",
   "metadata": {},
   "outputs": [],
   "source": [
    "import time\n",
    "import json\n",
    "from kafka import KafkaConsumer\n",
    "from kafka import KafkaProducer\n",
    "import datetime\n",
    "import pandas as pd"
   ]
  },
  {
   "cell_type": "code",
   "execution_count": 2,
   "id": "a5bfb0b1-df9f-46c6-9e39-e741a53f1bc4",
   "metadata": {},
   "outputs": [],
   "source": [
    "def Formatage(dictionnaire):  \n",
    "    date = [x for x in msg]\n",
    "    price = [x for x in msg.values()]\n",
    "    maximum = max(price)\n",
    "    minimum = min(price)\n",
    "\n",
    "    df = pd.DataFrame({'Date':date ,'Price':price})\n",
    "    df.insert(2, \"max\", maximum, allow_duplicates=False)\n",
    "    df.insert(3, \"min\", maximum, allow_duplicates=False)\n",
    "    return df"
   ]
  },
  {
   "cell_type": "code",
   "execution_count": null,
   "id": "e4e2b702-3c92-45ed-8521-3fffc6bcbf08",
   "metadata": {},
   "outputs": [
    {
     "name": "stdout",
     "output_type": "stream",
     "text": [
      "                         Date     Price       max       min\n",
      "0  2023-01-12 20:30:21.495521     11548  11551.25  11551.25\n",
      "1  2023-01-12 20:30:24.039460     11549  11551.25  11551.25\n",
      "2  2023-01-12 20:30:26.666777  11551.25  11551.25  11551.25\n",
      "                         Date     Price       max       min\n",
      "0  2023-01-12 20:30:29.280224  11551.75  11551.75  11551.75\n",
      "1  2023-01-12 20:30:32.056224  11550.75  11551.75  11551.75\n",
      "2  2023-01-12 20:30:34.816513  11550.75  11551.75  11551.75\n",
      "                         Date     Price       max       min\n",
      "0  2023-01-12 20:30:37.587879  11550.75  11551.75  11551.75\n",
      "1  2023-01-12 20:30:40.650439  11551.75  11551.75  11551.75\n",
      "2  2023-01-12 20:30:43.424448     11551  11551.75  11551.75\n"
     ]
    }
   ],
   "source": [
    "\n",
    "topic_nasdaq = 'Nasdaq'\n",
    "\n",
    "consumer = KafkaConsumer(topic_nasdaq, bootstrap_servers=\"localhost:9092\",value_deserializer=lambda x: json.loads(x.decode('utf-8')))\n",
    "\n",
    "for msg in consumer:\n",
    "    msg = json.loads(msg.value)\n",
    "    print(Formatage(msg))\n",
    "\n"
   ]
  },
  {
   "cell_type": "code",
   "execution_count": null,
   "id": "f68e06c3-3f09-4079-844d-333e3550a733",
   "metadata": {},
   "outputs": [],
   "source": []
  }
 ],
 "metadata": {
  "kernelspec": {
   "display_name": "Python 3 (ipykernel)",
   "language": "python",
   "name": "python3"
  },
  "language_info": {
   "codemirror_mode": {
    "name": "ipython",
    "version": 3
   },
   "file_extension": ".py",
   "mimetype": "text/x-python",
   "name": "python",
   "nbconvert_exporter": "python",
   "pygments_lexer": "ipython3",
   "version": "3.9.12"
  }
 },
 "nbformat": 4,
 "nbformat_minor": 5
}
