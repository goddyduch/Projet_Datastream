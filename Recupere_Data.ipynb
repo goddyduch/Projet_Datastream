{
 "cells": [
  {
   "cell_type": "code",
   "execution_count": 1,
   "id": "1065817b-f0b3-46c4-ab11-6e816388320f",
   "metadata": {},
   "outputs": [],
   "source": [
    "import time\n",
    "from kafka import KafkaConsumer\n",
    "import json\n",
    "from kafka import KafkaProducer\n",
    "from river import metrics\n",
    "import datetime\n",
    "from river import naive_bayes\n",
    "from river import stream"
   ]
  },
  {
   "cell_type": "code",
   "execution_count": null,
   "id": "702671d6-40b3-459b-8bed-faa54bfff699",
   "metadata": {},
   "outputs": [],
   "source": [
    "import pandas as pd\n",
    "def Formatage(dictionnaire):  \n",
    "    date = [x for x in msg]\n",
    "    price = [x for x in msg.values()]\n",
    "    maximum = max(price)\n",
    "    minimum = min(price)\n",
    "\n",
    "    df = pd.DataFrame({'Date':date ,'Price':price})\n",
    "    df.insert(2, \"max\", maximum, allow_duplicates=False)\n",
    "    df.insert(3, \"min\", maximum, allow_duplicates=False)\n",
    "    return df"
   ]
  },
  {
   "cell_type": "markdown",
   "id": "ef418662-65c2-4937-b87a-b5d324e27e0e",
   "metadata": {},
   "source": [
    "### CAC40"
   ]
  },
  {
   "cell_type": "code",
   "execution_count": 52,
   "id": "8fd8702e-6e92-45dd-9386-ba697b26f7c0",
   "metadata": {
    "tags": []
   },
   "outputs": [
    {
     "name": "stdout",
     "output_type": "stream",
     "text": [
      "                         Date     Price       max       min\n",
      "0  2023-01-12 20:21:19.949154  11560.75  11560.75  11560.75\n",
      "1  2023-01-12 20:21:20.954507  11560.75  11560.75  11560.75\n",
      "2  2023-01-12 20:21:21.959403  11560.75  11560.75  11560.75\n",
      "                         Date     Price       max       min\n",
      "0  2023-01-12 20:21:22.961508  11560.75  11560.75  11560.75\n",
      "1  2023-01-12 20:21:23.965025  11560.75  11560.75  11560.75\n",
      "2  2023-01-12 20:21:24.965466  11560.75  11560.75  11560.75\n",
      "                         Date     Price       max       min\n",
      "0  2023-01-12 20:21:25.970619  11560.75  11560.75  11560.75\n",
      "1  2023-01-12 20:21:26.973211  11560.75  11560.75  11560.75\n",
      "2  2023-01-12 20:21:27.973503  11560.75  11560.75  11560.75\n",
      "                         Date     Price       max       min\n",
      "0  2023-01-12 20:21:39.841981  11560.75  11560.75  11560.75\n",
      "1  2023-01-12 20:21:40.844205  11560.75  11560.75  11560.75\n",
      "2  2023-01-12 20:21:41.847485  11560.75  11560.75  11560.75\n",
      "                         Date     Price       max       min\n",
      "0  2023-01-12 20:21:42.849107  11560.75  11560.75  11560.75\n",
      "1  2023-01-12 20:21:43.849753  11560.75  11560.75  11560.75\n",
      "2  2023-01-12 20:21:44.855122  11560.75  11560.75  11560.75\n",
      "                         Date     Price       max       min\n",
      "0  2023-01-12 20:21:45.856846  11560.75  11560.75  11560.75\n",
      "1  2023-01-12 20:21:46.861244  11560.75  11560.75  11560.75\n",
      "2  2023-01-12 20:21:47.866284  11560.75  11560.75  11560.75\n"
     ]
    },
    {
     "ename": "KeyboardInterrupt",
     "evalue": "",
     "output_type": "error",
     "traceback": [
      "\u001b[0;31m---------------------------------------------------------------------------\u001b[0m",
      "\u001b[0;31mKeyboardInterrupt\u001b[0m                         Traceback (most recent call last)",
      "Input \u001b[0;32mIn [52]\u001b[0m, in \u001b[0;36m<cell line: 6>\u001b[0;34m()\u001b[0m\n\u001b[1;32m      2\u001b[0m topic_cac40 \u001b[38;5;241m=\u001b[39m \u001b[38;5;124m\"\u001b[39m\u001b[38;5;124mcac40\u001b[39m\u001b[38;5;124m\"\u001b[39m\n\u001b[1;32m      4\u001b[0m consumer \u001b[38;5;241m=\u001b[39m KafkaConsumer(topic_cac40, bootstrap_servers\u001b[38;5;241m=\u001b[39m\u001b[38;5;124m\"\u001b[39m\u001b[38;5;124mlocalhost:9092\u001b[39m\u001b[38;5;124m\"\u001b[39m,value_deserializer\u001b[38;5;241m=\u001b[39m\u001b[38;5;28;01mlambda\u001b[39;00m x: json\u001b[38;5;241m.\u001b[39mloads(x\u001b[38;5;241m.\u001b[39mdecode(\u001b[38;5;124m'\u001b[39m\u001b[38;5;124mutf-8\u001b[39m\u001b[38;5;124m'\u001b[39m)))\n\u001b[0;32m----> 6\u001b[0m \u001b[38;5;28;01mfor\u001b[39;00m msg \u001b[38;5;129;01min\u001b[39;00m consumer:\n\u001b[1;32m      7\u001b[0m     msg \u001b[38;5;241m=\u001b[39m json\u001b[38;5;241m.\u001b[39mloads(msg\u001b[38;5;241m.\u001b[39mvalue)\n\u001b[1;32m      8\u001b[0m     \u001b[38;5;28mprint\u001b[39m(Formatage(msg))\n",
      "File \u001b[0;32m~/test/anaconda3/lib/python3.9/site-packages/kafka/consumer/group.py:1193\u001b[0m, in \u001b[0;36mKafkaConsumer.__next__\u001b[0;34m(self)\u001b[0m\n\u001b[1;32m   1191\u001b[0m     \u001b[38;5;28;01mreturn\u001b[39;00m \u001b[38;5;28mself\u001b[39m\u001b[38;5;241m.\u001b[39mnext_v1()\n\u001b[1;32m   1192\u001b[0m \u001b[38;5;28;01melse\u001b[39;00m:\n\u001b[0;32m-> 1193\u001b[0m     \u001b[38;5;28;01mreturn\u001b[39;00m \u001b[38;5;28;43mself\u001b[39;49m\u001b[38;5;241;43m.\u001b[39;49m\u001b[43mnext_v2\u001b[49m\u001b[43m(\u001b[49m\u001b[43m)\u001b[49m\n",
      "File \u001b[0;32m~/test/anaconda3/lib/python3.9/site-packages/kafka/consumer/group.py:1201\u001b[0m, in \u001b[0;36mKafkaConsumer.next_v2\u001b[0;34m(self)\u001b[0m\n\u001b[1;32m   1199\u001b[0m     \u001b[38;5;28mself\u001b[39m\u001b[38;5;241m.\u001b[39m_iterator \u001b[38;5;241m=\u001b[39m \u001b[38;5;28mself\u001b[39m\u001b[38;5;241m.\u001b[39m_message_generator_v2()\n\u001b[1;32m   1200\u001b[0m \u001b[38;5;28;01mtry\u001b[39;00m:\n\u001b[0;32m-> 1201\u001b[0m     \u001b[38;5;28;01mreturn\u001b[39;00m \u001b[38;5;28;43mnext\u001b[39;49m\u001b[43m(\u001b[49m\u001b[38;5;28;43mself\u001b[39;49m\u001b[38;5;241;43m.\u001b[39;49m\u001b[43m_iterator\u001b[49m\u001b[43m)\u001b[49m\n\u001b[1;32m   1202\u001b[0m \u001b[38;5;28;01mexcept\u001b[39;00m \u001b[38;5;167;01mStopIteration\u001b[39;00m:\n\u001b[1;32m   1203\u001b[0m     \u001b[38;5;28mself\u001b[39m\u001b[38;5;241m.\u001b[39m_iterator \u001b[38;5;241m=\u001b[39m \u001b[38;5;28;01mNone\u001b[39;00m\n",
      "File \u001b[0;32m~/test/anaconda3/lib/python3.9/site-packages/kafka/consumer/group.py:1116\u001b[0m, in \u001b[0;36mKafkaConsumer._message_generator_v2\u001b[0;34m(self)\u001b[0m\n\u001b[1;32m   1114\u001b[0m \u001b[38;5;28;01mdef\u001b[39;00m \u001b[38;5;21m_message_generator_v2\u001b[39m(\u001b[38;5;28mself\u001b[39m):\n\u001b[1;32m   1115\u001b[0m     timeout_ms \u001b[38;5;241m=\u001b[39m \u001b[38;5;241m1000\u001b[39m \u001b[38;5;241m*\u001b[39m (\u001b[38;5;28mself\u001b[39m\u001b[38;5;241m.\u001b[39m_consumer_timeout \u001b[38;5;241m-\u001b[39m time\u001b[38;5;241m.\u001b[39mtime())\n\u001b[0;32m-> 1116\u001b[0m     record_map \u001b[38;5;241m=\u001b[39m \u001b[38;5;28;43mself\u001b[39;49m\u001b[38;5;241;43m.\u001b[39;49m\u001b[43mpoll\u001b[49m\u001b[43m(\u001b[49m\u001b[43mtimeout_ms\u001b[49m\u001b[38;5;241;43m=\u001b[39;49m\u001b[43mtimeout_ms\u001b[49m\u001b[43m,\u001b[49m\u001b[43m \u001b[49m\u001b[43mupdate_offsets\u001b[49m\u001b[38;5;241;43m=\u001b[39;49m\u001b[38;5;28;43;01mFalse\u001b[39;49;00m\u001b[43m)\u001b[49m\n\u001b[1;32m   1117\u001b[0m     \u001b[38;5;28;01mfor\u001b[39;00m tp, records \u001b[38;5;129;01min\u001b[39;00m six\u001b[38;5;241m.\u001b[39miteritems(record_map):\n\u001b[1;32m   1118\u001b[0m         \u001b[38;5;66;03m# Generators are stateful, and it is possible that the tp / records\u001b[39;00m\n\u001b[1;32m   1119\u001b[0m         \u001b[38;5;66;03m# here may become stale during iteration -- i.e., we seek to a\u001b[39;00m\n\u001b[1;32m   1120\u001b[0m         \u001b[38;5;66;03m# different offset, pause consumption, or lose assignment.\u001b[39;00m\n\u001b[1;32m   1121\u001b[0m         \u001b[38;5;28;01mfor\u001b[39;00m record \u001b[38;5;129;01min\u001b[39;00m records:\n\u001b[1;32m   1122\u001b[0m             \u001b[38;5;66;03m# is_fetchable(tp) should handle assignment changes and offset\u001b[39;00m\n\u001b[1;32m   1123\u001b[0m             \u001b[38;5;66;03m# resets; for all other changes (e.g., seeks) we'll rely on the\u001b[39;00m\n\u001b[1;32m   1124\u001b[0m             \u001b[38;5;66;03m# outer function destroying the existing iterator/generator\u001b[39;00m\n\u001b[1;32m   1125\u001b[0m             \u001b[38;5;66;03m# via self._iterator = None\u001b[39;00m\n",
      "File \u001b[0;32m~/test/anaconda3/lib/python3.9/site-packages/kafka/consumer/group.py:655\u001b[0m, in \u001b[0;36mKafkaConsumer.poll\u001b[0;34m(self, timeout_ms, max_records, update_offsets)\u001b[0m\n\u001b[1;32m    653\u001b[0m remaining \u001b[38;5;241m=\u001b[39m timeout_ms\n\u001b[1;32m    654\u001b[0m \u001b[38;5;28;01mwhile\u001b[39;00m \u001b[38;5;28;01mTrue\u001b[39;00m:\n\u001b[0;32m--> 655\u001b[0m     records \u001b[38;5;241m=\u001b[39m \u001b[38;5;28;43mself\u001b[39;49m\u001b[38;5;241;43m.\u001b[39;49m\u001b[43m_poll_once\u001b[49m\u001b[43m(\u001b[49m\u001b[43mremaining\u001b[49m\u001b[43m,\u001b[49m\u001b[43m \u001b[49m\u001b[43mmax_records\u001b[49m\u001b[43m,\u001b[49m\u001b[43m \u001b[49m\u001b[43mupdate_offsets\u001b[49m\u001b[38;5;241;43m=\u001b[39;49m\u001b[43mupdate_offsets\u001b[49m\u001b[43m)\u001b[49m\n\u001b[1;32m    656\u001b[0m     \u001b[38;5;28;01mif\u001b[39;00m records:\n\u001b[1;32m    657\u001b[0m         \u001b[38;5;28;01mreturn\u001b[39;00m records\n",
      "File \u001b[0;32m~/test/anaconda3/lib/python3.9/site-packages/kafka/consumer/group.py:702\u001b[0m, in \u001b[0;36mKafkaConsumer._poll_once\u001b[0;34m(self, timeout_ms, max_records, update_offsets)\u001b[0m\n\u001b[1;32m    699\u001b[0m     \u001b[38;5;28mself\u001b[39m\u001b[38;5;241m.\u001b[39m_client\u001b[38;5;241m.\u001b[39mpoll(timeout_ms\u001b[38;5;241m=\u001b[39m\u001b[38;5;241m0\u001b[39m)\n\u001b[1;32m    701\u001b[0m timeout_ms \u001b[38;5;241m=\u001b[39m \u001b[38;5;28mmin\u001b[39m(timeout_ms, \u001b[38;5;28mself\u001b[39m\u001b[38;5;241m.\u001b[39m_coordinator\u001b[38;5;241m.\u001b[39mtime_to_next_poll() \u001b[38;5;241m*\u001b[39m \u001b[38;5;241m1000\u001b[39m)\n\u001b[0;32m--> 702\u001b[0m \u001b[38;5;28;43mself\u001b[39;49m\u001b[38;5;241;43m.\u001b[39;49m\u001b[43m_client\u001b[49m\u001b[38;5;241;43m.\u001b[39;49m\u001b[43mpoll\u001b[49m\u001b[43m(\u001b[49m\u001b[43mtimeout_ms\u001b[49m\u001b[38;5;241;43m=\u001b[39;49m\u001b[43mtimeout_ms\u001b[49m\u001b[43m)\u001b[49m\n\u001b[1;32m    703\u001b[0m \u001b[38;5;66;03m# after the long poll, we should check whether the group needs to rebalance\u001b[39;00m\n\u001b[1;32m    704\u001b[0m \u001b[38;5;66;03m# prior to returning data so that the group can stabilize faster\u001b[39;00m\n\u001b[1;32m    705\u001b[0m \u001b[38;5;28;01mif\u001b[39;00m \u001b[38;5;28mself\u001b[39m\u001b[38;5;241m.\u001b[39m_coordinator\u001b[38;5;241m.\u001b[39mneed_rejoin():\n",
      "File \u001b[0;32m~/test/anaconda3/lib/python3.9/site-packages/kafka/client_async.py:602\u001b[0m, in \u001b[0;36mKafkaClient.poll\u001b[0;34m(self, timeout_ms, future)\u001b[0m\n\u001b[1;32m    599\u001b[0m             timeout \u001b[38;5;241m=\u001b[39m \u001b[38;5;28mmin\u001b[39m(timeout, \u001b[38;5;28mself\u001b[39m\u001b[38;5;241m.\u001b[39mconfig[\u001b[38;5;124m'\u001b[39m\u001b[38;5;124mretry_backoff_ms\u001b[39m\u001b[38;5;124m'\u001b[39m])\n\u001b[1;32m    600\u001b[0m         timeout \u001b[38;5;241m=\u001b[39m \u001b[38;5;28mmax\u001b[39m(\u001b[38;5;241m0\u001b[39m, timeout)  \u001b[38;5;66;03m# avoid negative timeouts\u001b[39;00m\n\u001b[0;32m--> 602\u001b[0m     \u001b[38;5;28;43mself\u001b[39;49m\u001b[38;5;241;43m.\u001b[39;49m\u001b[43m_poll\u001b[49m\u001b[43m(\u001b[49m\u001b[43mtimeout\u001b[49m\u001b[43m \u001b[49m\u001b[38;5;241;43m/\u001b[39;49m\u001b[43m \u001b[49m\u001b[38;5;241;43m1000\u001b[39;49m\u001b[43m)\u001b[49m\n\u001b[1;32m    604\u001b[0m \u001b[38;5;66;03m# called without the lock to avoid deadlock potential\u001b[39;00m\n\u001b[1;32m    605\u001b[0m \u001b[38;5;66;03m# if handlers need to acquire locks\u001b[39;00m\n\u001b[1;32m    606\u001b[0m responses\u001b[38;5;241m.\u001b[39mextend(\u001b[38;5;28mself\u001b[39m\u001b[38;5;241m.\u001b[39m_fire_pending_completed_requests())\n",
      "File \u001b[0;32m~/test/anaconda3/lib/python3.9/site-packages/kafka/client_async.py:634\u001b[0m, in \u001b[0;36mKafkaClient._poll\u001b[0;34m(self, timeout)\u001b[0m\n\u001b[1;32m    631\u001b[0m \u001b[38;5;28mself\u001b[39m\u001b[38;5;241m.\u001b[39m_register_send_sockets()\n\u001b[1;32m    633\u001b[0m start_select \u001b[38;5;241m=\u001b[39m time\u001b[38;5;241m.\u001b[39mtime()\n\u001b[0;32m--> 634\u001b[0m ready \u001b[38;5;241m=\u001b[39m \u001b[38;5;28;43mself\u001b[39;49m\u001b[38;5;241;43m.\u001b[39;49m\u001b[43m_selector\u001b[49m\u001b[38;5;241;43m.\u001b[39;49m\u001b[43mselect\u001b[49m\u001b[43m(\u001b[49m\u001b[43mtimeout\u001b[49m\u001b[43m)\u001b[49m\n\u001b[1;32m    635\u001b[0m end_select \u001b[38;5;241m=\u001b[39m time\u001b[38;5;241m.\u001b[39mtime()\n\u001b[1;32m    636\u001b[0m \u001b[38;5;28;01mif\u001b[39;00m \u001b[38;5;28mself\u001b[39m\u001b[38;5;241m.\u001b[39m_sensors:\n",
      "File \u001b[0;32m~/test/anaconda3/lib/python3.9/selectors.py:562\u001b[0m, in \u001b[0;36mKqueueSelector.select\u001b[0;34m(self, timeout)\u001b[0m\n\u001b[1;32m    560\u001b[0m ready \u001b[38;5;241m=\u001b[39m []\n\u001b[1;32m    561\u001b[0m \u001b[38;5;28;01mtry\u001b[39;00m:\n\u001b[0;32m--> 562\u001b[0m     kev_list \u001b[38;5;241m=\u001b[39m \u001b[38;5;28;43mself\u001b[39;49m\u001b[38;5;241;43m.\u001b[39;49m\u001b[43m_selector\u001b[49m\u001b[38;5;241;43m.\u001b[39;49m\u001b[43mcontrol\u001b[49m\u001b[43m(\u001b[49m\u001b[38;5;28;43;01mNone\u001b[39;49;00m\u001b[43m,\u001b[49m\u001b[43m \u001b[49m\u001b[43mmax_ev\u001b[49m\u001b[43m,\u001b[49m\u001b[43m \u001b[49m\u001b[43mtimeout\u001b[49m\u001b[43m)\u001b[49m\n\u001b[1;32m    563\u001b[0m \u001b[38;5;28;01mexcept\u001b[39;00m \u001b[38;5;167;01mInterruptedError\u001b[39;00m:\n\u001b[1;32m    564\u001b[0m     \u001b[38;5;28;01mreturn\u001b[39;00m ready\n",
      "\u001b[0;31mKeyboardInterrupt\u001b[0m: "
     ]
    }
   ],
   "source": [
    "\n",
    "topic_cac40 = \"cac40\"\n",
    "\n",
    "consumer = KafkaConsumer(topic_cac40, bootstrap_servers=\"localhost:9092\",value_deserializer=lambda x: json.loads(x.decode('utf-8')))\n",
    "\n",
    "for msg in consumer:\n",
    "    msg = json.loads(msg.value)\n",
    "    print(Formatage(msg))\n",
    "    \n",
    "   "
   ]
  },
  {
   "cell_type": "markdown",
   "id": "a07d57d2-883e-4d26-a05b-9e05fa3cd7d2",
   "metadata": {},
   "source": [
    "### NASDAQ"
   ]
  },
  {
   "cell_type": "code",
   "execution_count": null,
   "id": "c39c9a6a-32e9-4b6a-ab7f-bf5cbe4f23bd",
   "metadata": {},
   "outputs": [
    {
     "name": "stdout",
     "output_type": "stream",
     "text": [
      "                         Date     Price       max       min\n",
      "0  2023-01-12 20:22:01.774817  11560.75  11560.75  11560.75\n",
      "1  2023-01-12 20:22:02.779327  11560.75  11560.75  11560.75\n",
      "2  2023-01-12 20:22:03.780124  11560.75  11560.75  11560.75\n",
      "                         Date     Price       max       min\n",
      "0  2023-01-12 20:22:04.782028  11560.75  11560.75  11560.75\n",
      "1  2023-01-12 20:22:05.785747  11560.75  11560.75  11560.75\n",
      "2  2023-01-12 20:22:06.788602  11560.75  11560.75  11560.75\n",
      "                         Date     Price       max       min\n",
      "0  2023-01-12 20:22:07.791886  11560.75  11560.75  11560.75\n",
      "1  2023-01-12 20:22:08.794263  11560.75  11560.75  11560.75\n",
      "2  2023-01-12 20:22:09.794524  11560.75  11560.75  11560.75\n",
      "                         Date     Price    max    min\n",
      "0  2023-01-12 20:26:28.570548  11541.75  11545  11545\n",
      "1  2023-01-12 20:26:31.526337  11543.25  11545  11545\n",
      "2  2023-01-12 20:26:34.282703     11545  11545  11545\n",
      "                         Date     Price       max       min\n",
      "0  2023-01-12 20:26:36.979278     11544  11546.75  11546.75\n",
      "1  2023-01-12 20:26:39.869157     11545  11546.75  11546.75\n",
      "2  2023-01-12 20:26:42.910060  11546.75  11546.75  11546.75\n",
      "                         Date     Price       max       min\n",
      "0  2023-01-12 20:28:58.037216  11553.25  11553.25  11553.25\n",
      "1  2023-01-12 20:29:01.092037  11553.25  11553.25  11553.25\n",
      "2  2023-01-12 20:29:03.888929   11552.5  11553.25  11553.25\n",
      "                         Date     Price    max    min\n",
      "0  2023-01-12 20:29:06.641714     11553  11553  11553\n",
      "1  2023-01-12 20:29:09.954185  11550.25  11553  11553\n",
      "2  2023-01-12 20:29:13.701701   11550.5  11553  11553\n",
      "                         Date     Price      max      min\n",
      "0  2023-01-12 20:29:16.467747  11551.25  11551.5  11551.5\n",
      "1  2023-01-12 20:29:18.939392  11551.25  11551.5  11551.5\n",
      "2  2023-01-12 20:29:21.713011   11551.5  11551.5  11551.5\n"
     ]
    }
   ],
   "source": [
    "\n",
    "topic_nasdaq = 'Nasdaq'\n",
    "\n",
    "consumer = KafkaConsumer(topic_nasdaq, bootstrap_servers=\"localhost:9092\",value_deserializer=lambda x: json.loads(x.decode('utf-8')))\n",
    "\n",
    "for msg in consumer:\n",
    "    msg = json.loads(msg.value)\n",
    "    print(Formatage(msg))\n",
    "\n"
   ]
  },
  {
   "cell_type": "code",
   "execution_count": null,
   "id": "419e2514-db8d-44b5-a6d3-e6b3ff0d87e2",
   "metadata": {},
   "outputs": [],
   "source": []
  }
 ],
 "metadata": {
  "kernelspec": {
   "display_name": "Python 3 (ipykernel)",
   "language": "python",
   "name": "python3"
  },
  "language_info": {
   "codemirror_mode": {
    "name": "ipython",
    "version": 3
   },
   "file_extension": ".py",
   "mimetype": "text/x-python",
   "name": "python",
   "nbconvert_exporter": "python",
   "pygments_lexer": "ipython3",
   "version": "3.9.12"
  }
 },
 "nbformat": 4,
 "nbformat_minor": 5
}
