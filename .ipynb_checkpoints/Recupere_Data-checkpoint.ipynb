{
 "cells": [
  {
   "cell_type": "code",
   "execution_count": 1,
   "id": "1065817b-f0b3-46c4-ab11-6e816388320f",
   "metadata": {},
   "outputs": [],
   "source": [
    "import time\n",
    "from kafka import KafkaConsumer\n",
    "import json\n",
    "from kafka import KafkaProducer\n",
    "from river import metrics\n",
    "import datetime\n",
    "from river import naive_bayes\n",
    "from river import stream"
   ]
  },
  {
   "cell_type": "code",
   "execution_count": null,
   "id": "8fd8702e-6e92-45dd-9386-ba697b26f7c0",
   "metadata": {
    "tags": []
   },
   "outputs": [
    {
     "name": "stdout",
     "output_type": "stream",
     "text": [
      "                         Date     Price       max       min\n",
      "0  2023-01-12 20:05:08.638106  11563.25  11563.25  11563.25\n",
      "1  2023-01-12 20:05:09.549640  11563.25  11563.25  11563.25\n",
      "2  2023-01-12 20:05:10.314862   11562.5  11563.25  11563.25\n",
      "                         Date    Price      max      min\n",
      "0  2023-01-12 20:05:11.585838  11562.5  11562.5  11562.5\n",
      "1  2023-01-12 20:05:12.343706    11561  11562.5  11562.5\n",
      "2  2023-01-12 20:05:13.240798    11561  11562.5  11562.5\n",
      "                         Date     Price       max       min\n",
      "0  2023-01-12 20:05:13.956310  11560.75  11560.75  11560.75\n",
      "1  2023-01-12 20:05:14.761543  11560.75  11560.75  11560.75\n",
      "2  2023-01-12 20:05:15.669032  11560.75  11560.75  11560.75\n"
     ]
    }
   ],
   "source": [
    "\n",
    "topic_name = \"cac40\"\n",
    "consumer = KafkaConsumer(topic_name, bootstrap_servers=\"localhost:9092\",value_deserializer=lambda x: json.loads(x.decode('utf-8')))\n",
    "\n",
    "x=0\n",
    "for msg in consumer:\n",
    "    msg = json.loads(msg.value)\n",
    "    print(Formatage(msg))\n",
    "    \n",
    "   "
   ]
  },
  {
   "cell_type": "code",
   "execution_count": 50,
   "id": "c39c9a6a-32e9-4b6a-ab7f-bf5cbe4f23bd",
   "metadata": {},
   "outputs": [
    {
     "name": "stdout",
     "output_type": "stream",
     "text": [
      "                         Date     Price    max    min\n",
      "0  2023-01-12 19:46:08.826703  11505.25  11506  11506\n",
      "1  2023-01-12 19:46:10.110761  11505.25  11506  11506\n",
      "2  2023-01-12 19:46:11.269862     11506  11506  11506\n"
     ]
    }
   ],
   "source": [
    "import pandas as pd\n",
    "def Formatage(dictionnaire):  \n",
    "    date = [x for x in msg]\n",
    "    price = [x for x in msg.values()]\n",
    "    maximum = max(price)\n",
    "    minimum = min(price)\n",
    "\n",
    "    df = pd.DataFrame({'Date':date ,'Price':price})\n",
    "    df.insert(2, \"max\", maximum, allow_duplicates=False)\n",
    "    df.insert(3, \"min\", maximum, allow_duplicates=False)\n",
    "    return df\n",
    "\n"
   ]
  },
  {
   "cell_type": "code",
   "execution_count": 36,
   "id": "7e8f405e-bbf0-44ce-b9fc-3e24aec2a658",
   "metadata": {},
   "outputs": [
    {
     "data": {
      "text/plain": [
       "{'2023-01-12 19:46:08.826703': '11505.25',\n",
       " '2023-01-12 19:46:10.110761': '11505.25',\n",
       " '2023-01-12 19:46:11.269862': '11506'}"
      ]
     },
     "execution_count": 36,
     "metadata": {},
     "output_type": "execute_result"
    }
   ],
   "source": [
    "msg"
   ]
  },
  {
   "cell_type": "code",
   "execution_count": 41,
   "id": "c034a255-b41d-4e91-8606-7784488b5e60",
   "metadata": {},
   "outputs": [
    {
     "data": {
      "text/html": [
       "<div>\n",
       "<style scoped>\n",
       "    .dataframe tbody tr th:only-of-type {\n",
       "        vertical-align: middle;\n",
       "    }\n",
       "\n",
       "    .dataframe tbody tr th {\n",
       "        vertical-align: top;\n",
       "    }\n",
       "\n",
       "    .dataframe thead th {\n",
       "        text-align: right;\n",
       "    }\n",
       "</style>\n",
       "<table border=\"1\" class=\"dataframe\">\n",
       "  <thead>\n",
       "    <tr style=\"text-align: right;\">\n",
       "      <th></th>\n",
       "      <th>Date</th>\n",
       "      <th>Price</th>\n",
       "    </tr>\n",
       "  </thead>\n",
       "  <tbody>\n",
       "    <tr>\n",
       "      <th>0</th>\n",
       "      <td>2023-01-12 19:46:08.826703</td>\n",
       "      <td>11505.25</td>\n",
       "    </tr>\n",
       "    <tr>\n",
       "      <th>1</th>\n",
       "      <td>2023-01-12 19:46:10.110761</td>\n",
       "      <td>11505.25</td>\n",
       "    </tr>\n",
       "    <tr>\n",
       "      <th>2</th>\n",
       "      <td>2023-01-12 19:46:11.269862</td>\n",
       "      <td>11506</td>\n",
       "    </tr>\n",
       "  </tbody>\n",
       "</table>\n",
       "</div>"
      ],
      "text/plain": [
       "                         Date     Price\n",
       "0  2023-01-12 19:46:08.826703  11505.25\n",
       "1  2023-01-12 19:46:10.110761  11505.25\n",
       "2  2023-01-12 19:46:11.269862     11506"
      ]
     },
     "execution_count": 41,
     "metadata": {},
     "output_type": "execute_result"
    }
   ],
   "source": [
    "\n",
    "df"
   ]
  },
  {
   "cell_type": "code",
   "execution_count": null,
   "id": "2945936e-b3be-4ced-835f-07737332b93e",
   "metadata": {},
   "outputs": [],
   "source": []
  },
  {
   "cell_type": "code",
   "execution_count": null,
   "id": "4f53f8f7-1dd0-4fba-963c-f0bee756768a",
   "metadata": {},
   "outputs": [],
   "source": []
  },
  {
   "cell_type": "code",
   "execution_count": null,
   "id": "a04a0ae9-ddfb-45d8-93c0-a2ac9c11131b",
   "metadata": {},
   "outputs": [],
   "source": []
  },
  {
   "cell_type": "code",
   "execution_count": null,
   "id": "5d7033a9-a1d6-43b2-8d66-dcf5360b71f6",
   "metadata": {},
   "outputs": [],
   "source": []
  },
  {
   "cell_type": "code",
   "execution_count": 26,
   "id": "c94d92ed-de2c-46d4-baba-8b933c949327",
   "metadata": {},
   "outputs": [
    {
     "name": "stdout",
     "output_type": "stream",
     "text": [
      "2023-01-10\n"
     ]
    }
   ],
   "source": [
    "import datetime\n",
    "print(datetime.date.fromtimestamp(int(x)))\n"
   ]
  },
  {
   "cell_type": "code",
   "execution_count": 33,
   "id": "c3c862d6-9605-432e-9ca4-5f146b6e2a5e",
   "metadata": {},
   "outputs": [
    {
     "ename": "NameError",
     "evalue": "name 'metrics' is not defined",
     "output_type": "error",
     "traceback": [
      "\u001b[0;31m---------------------------------------------------------------------------\u001b[0m",
      "\u001b[0;31mNameError\u001b[0m                                 Traceback (most recent call last)",
      "Input \u001b[0;32mIn [33]\u001b[0m, in \u001b[0;36m<cell line: 6>\u001b[0;34m()\u001b[0m\n\u001b[1;32m      4\u001b[0m model \u001b[38;5;241m=\u001b[39m naive_bayes\u001b[38;5;241m.\u001b[39mGaussianNB()\n\u001b[1;32m      5\u001b[0m compteur \u001b[38;5;241m=\u001b[39m\u001b[38;5;241m0\u001b[39m \n\u001b[0;32m----> 6\u001b[0m acc \u001b[38;5;241m=\u001b[39m \u001b[43mmetrics\u001b[49m\u001b[38;5;241m.\u001b[39mAccuracy()\n\u001b[1;32m      7\u001b[0m \u001b[38;5;28;01mfor\u001b[39;00m x, y \u001b[38;5;129;01min\u001b[39;00m stream\u001b[38;5;241m.\u001b[39miter_pandas(X\u001b[38;5;241m=\u001b[39mX_train, y\u001b[38;5;241m=\u001b[39mY_train):\n\u001b[1;32m      8\u001b[0m     compteur \u001b[38;5;241m+\u001b[39m\u001b[38;5;241m=\u001b[39m\u001b[38;5;241m1\u001b[39m\n",
      "\u001b[0;31mNameError\u001b[0m: name 'metrics' is not defined"
     ]
    }
   ],
   "source": [
    "from river import naive_bayes\n",
    "from river import stream\n",
    "\n",
    "model = naive_bayes.GaussianNB()\n",
    "compteur =0 \n",
    "acc = metrics.Accuracy()\n",
    "for x, y in stream.iter_pandas(X=X_train, y=Y_train):\n",
    "    compteur +=1\n",
    "    y =  utils.dict2numpy(y)[0]\n",
    "    if compteur < 300:\n",
    "        model.learn_one(x, y)\n",
    "    else : \n",
    "        y_pred = model.predict_one(x) \n",
    "        acc.update(y_true=y, y_pred=y_pred)\n",
    "        model.learn_one(x, y)\n",
    "\n",
    "print(acc)"
   ]
  },
  {
   "cell_type": "code",
   "execution_count": null,
   "id": "419e2514-db8d-44b5-a6d3-e6b3ff0d87e2",
   "metadata": {},
   "outputs": [],
   "source": []
  }
 ],
 "metadata": {
  "kernelspec": {
   "display_name": "Python 3 (ipykernel)",
   "language": "python",
   "name": "python3"
  },
  "language_info": {
   "codemirror_mode": {
    "name": "ipython",
    "version": 3
   },
   "file_extension": ".py",
   "mimetype": "text/x-python",
   "name": "python",
   "nbconvert_exporter": "python",
   "pygments_lexer": "ipython3",
   "version": "3.9.12"
  }
 },
 "nbformat": 4,
 "nbformat_minor": 5
}
