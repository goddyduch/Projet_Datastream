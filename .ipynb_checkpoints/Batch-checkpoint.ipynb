{
 "cells": [
  {
   "cell_type": "code",
   "execution_count": 14,
   "id": "b7eb532d-1e4d-4b1e-9aad-3991c79a3607",
   "metadata": {},
   "outputs": [],
   "source": [
    "import pandas as pd\n",
    "\n",
    "import matplotlib.pyplot as plt\n",
    "from alpha_vantage.timeseries import TimeSeries\n",
    "from alpha_vantage.sectorperformance import SectorPerformances\n",
    "from alpha_vantage.techindicators import TechIndicators\n"
   ]
  },
  {
   "cell_type": "code",
   "execution_count": 15,
   "id": "e09261bf-1094-4272-a2d9-f8da54525b54",
   "metadata": {},
   "outputs": [
    {
     "data": {
      "text/html": [
       "<div>\n",
       "<style scoped>\n",
       "    .dataframe tbody tr th:only-of-type {\n",
       "        vertical-align: middle;\n",
       "    }\n",
       "\n",
       "    .dataframe tbody tr th {\n",
       "        vertical-align: top;\n",
       "    }\n",
       "\n",
       "    .dataframe thead th {\n",
       "        text-align: right;\n",
       "    }\n",
       "</style>\n",
       "<table border=\"1\" class=\"dataframe\">\n",
       "  <thead>\n",
       "    <tr style=\"text-align: right;\">\n",
       "      <th></th>\n",
       "      <th>time</th>\n",
       "      <th>open</th>\n",
       "      <th>high</th>\n",
       "      <th>low</th>\n",
       "      <th>close</th>\n",
       "      <th>volume</th>\n",
       "    </tr>\n",
       "  </thead>\n",
       "  <tbody>\n",
       "    <tr>\n",
       "      <th>1</th>\n",
       "      <td>2023-01-06 16:03:00</td>\n",
       "      <td>61.65</td>\n",
       "      <td>61.65</td>\n",
       "      <td>61.65</td>\n",
       "      <td>61.65</td>\n",
       "      <td>21639</td>\n",
       "    </tr>\n",
       "    <tr>\n",
       "      <th>2</th>\n",
       "      <td>2023-01-06 16:02:00</td>\n",
       "      <td>61.65</td>\n",
       "      <td>61.65</td>\n",
       "      <td>61.65</td>\n",
       "      <td>61.65</td>\n",
       "      <td>10377</td>\n",
       "    </tr>\n",
       "    <tr>\n",
       "      <th>3</th>\n",
       "      <td>2023-01-06 16:01:00</td>\n",
       "      <td>61.65</td>\n",
       "      <td>61.65</td>\n",
       "      <td>61.65</td>\n",
       "      <td>61.65</td>\n",
       "      <td>11498</td>\n",
       "    </tr>\n",
       "    <tr>\n",
       "      <th>4</th>\n",
       "      <td>2023-01-06 16:00:00</td>\n",
       "      <td>61.615</td>\n",
       "      <td>61.695</td>\n",
       "      <td>61.615</td>\n",
       "      <td>61.64</td>\n",
       "      <td>36928</td>\n",
       "    </tr>\n",
       "    <tr>\n",
       "      <th>5</th>\n",
       "      <td>2023-01-06 15:59:00</td>\n",
       "      <td>61.63</td>\n",
       "      <td>61.645</td>\n",
       "      <td>61.595</td>\n",
       "      <td>61.615</td>\n",
       "      <td>30661</td>\n",
       "    </tr>\n",
       "  </tbody>\n",
       "</table>\n",
       "</div>"
      ],
      "text/plain": [
       "0                 time    open    high     low   close volume\n",
       "1  2023-01-06 16:03:00   61.65   61.65   61.65   61.65  21639\n",
       "2  2023-01-06 16:02:00   61.65   61.65   61.65   61.65  10377\n",
       "3  2023-01-06 16:01:00   61.65   61.65   61.65   61.65  11498\n",
       "4  2023-01-06 16:00:00  61.615  61.695  61.615   61.64  36928\n",
       "5  2023-01-06 15:59:00   61.63  61.645  61.595  61.615  30661"
      ]
     },
     "execution_count": 15,
     "metadata": {},
     "output_type": "execute_result"
    }
   ],
   "source": [
    "\"\"\"----------------------------------IMPORTATION DES VALEURS BOURSIERES --------------------------------\"\"\"\n",
    "key = '8NY5A51OROX11O2Y'\n",
    "ts = TimeSeries(key=key,output_format='pandas', indexing_type='date')\n",
    "\n",
    "\n",
    "Nasdaq = 'NDAQ'\n",
    "sp_500 = 'SPY'\n",
    "CAC_40 = 'PX1'\n",
    "\n",
    "#IMPORTATION NASDAQ\n",
    "ts = TimeSeries(key = key, output_format = 'csv')\n",
    "totalData = ts.get_intraday_extended(symbol =Nasdaq , interval = '1min', slice = 'year1month1')\n",
    "df = pd.DataFrame(list(totalData[0]))\n",
    "\n",
    "#setup of column and index\n",
    "header_row=0\n",
    "df.columns = df.iloc[header_row]\n",
    "df = df.drop(header_row)\n",
    "df.head()"
   ]
  },
  {
   "cell_type": "code",
   "execution_count": 131,
   "id": "b06eb00a-e586-4cc0-a969-e16db25d762f",
   "metadata": {},
   "outputs": [
    {
     "name": "stderr",
     "output_type": "stream",
     "text": [
      "/var/folders/8v/_d356qzj5y3gqf3w5b1ft0940000gn/T/ipykernel_1827/1373037085.py:6: SettingWithCopyWarning: \n",
      "A value is trying to be set on a copy of a slice from a DataFrame.\n",
      "Try using .loc[row_indexer,col_indexer] = value instead\n",
      "\n",
      "See the caveats in the documentation: https://pandas.pydata.org/pandas-docs/stable/user_guide/indexing.html#returning-a-view-versus-a-copy\n",
      "  df2.loc[:,'before'] = df2.loc[:,'close'].shift()\n",
      "/var/folders/8v/_d356qzj5y3gqf3w5b1ft0940000gn/T/ipykernel_1827/1373037085.py:8: SettingWithCopyWarning: \n",
      "A value is trying to be set on a copy of a slice from a DataFrame.\n",
      "Try using .loc[row_indexer,col_indexer] = value instead\n",
      "\n",
      "See the caveats in the documentation: https://pandas.pydata.org/pandas-docs/stable/user_guide/indexing.html#returning-a-view-versus-a-copy\n",
      "  df2['before']= df2['before'].astype(float)\n",
      "/var/folders/8v/_d356qzj5y3gqf3w5b1ft0940000gn/T/ipykernel_1827/1373037085.py:9: SettingWithCopyWarning: \n",
      "A value is trying to be set on a copy of a slice from a DataFrame.\n",
      "Try using .loc[row_indexer,col_indexer] = value instead\n",
      "\n",
      "See the caveats in the documentation: https://pandas.pydata.org/pandas-docs/stable/user_guide/indexing.html#returning-a-view-versus-a-copy\n",
      "  df2.loc[:,'before_Diff'] = df2.loc[:,'before'].diff()\n"
     ]
    },
    {
     "data": {
      "text/html": [
       "<div>\n",
       "<style scoped>\n",
       "    .dataframe tbody tr th:only-of-type {\n",
       "        vertical-align: middle;\n",
       "    }\n",
       "\n",
       "    .dataframe tbody tr th {\n",
       "        vertical-align: top;\n",
       "    }\n",
       "\n",
       "    .dataframe thead th {\n",
       "        text-align: right;\n",
       "    }\n",
       "</style>\n",
       "<table border=\"1\" class=\"dataframe\">\n",
       "  <thead>\n",
       "    <tr style=\"text-align: right;\">\n",
       "      <th></th>\n",
       "      <th>time</th>\n",
       "      <th>close</th>\n",
       "      <th>before</th>\n",
       "      <th>before_Diff</th>\n",
       "      <th>year</th>\n",
       "      <th>month</th>\n",
       "      <th>days</th>\n",
       "      <th>hour</th>\n",
       "      <th>minutes</th>\n",
       "    </tr>\n",
       "  </thead>\n",
       "  <tbody>\n",
       "    <tr>\n",
       "      <th>3</th>\n",
       "      <td>2023-01-06 19:58:00</td>\n",
       "      <td>387.59</td>\n",
       "      <td>387.580000</td>\n",
       "      <td>0.000000</td>\n",
       "      <td>2023</td>\n",
       "      <td>1</td>\n",
       "      <td>6</td>\n",
       "      <td>19</td>\n",
       "      <td>58</td>\n",
       "    </tr>\n",
       "    <tr>\n",
       "      <th>4</th>\n",
       "      <td>2023-01-06 19:57:00</td>\n",
       "      <td>387.59</td>\n",
       "      <td>387.590000</td>\n",
       "      <td>0.010000</td>\n",
       "      <td>2023</td>\n",
       "      <td>1</td>\n",
       "      <td>6</td>\n",
       "      <td>19</td>\n",
       "      <td>57</td>\n",
       "    </tr>\n",
       "    <tr>\n",
       "      <th>5</th>\n",
       "      <td>2023-01-06 19:54:00</td>\n",
       "      <td>387.6</td>\n",
       "      <td>387.590000</td>\n",
       "      <td>0.000000</td>\n",
       "      <td>2023</td>\n",
       "      <td>1</td>\n",
       "      <td>6</td>\n",
       "      <td>19</td>\n",
       "      <td>54</td>\n",
       "    </tr>\n",
       "    <tr>\n",
       "      <th>6</th>\n",
       "      <td>2023-01-06 19:51:00</td>\n",
       "      <td>387.58</td>\n",
       "      <td>387.600000</td>\n",
       "      <td>0.010000</td>\n",
       "      <td>2023</td>\n",
       "      <td>1</td>\n",
       "      <td>6</td>\n",
       "      <td>19</td>\n",
       "      <td>51</td>\n",
       "    </tr>\n",
       "    <tr>\n",
       "      <th>7</th>\n",
       "      <td>2023-01-06 19:50:00</td>\n",
       "      <td>387.65</td>\n",
       "      <td>387.580000</td>\n",
       "      <td>-0.020000</td>\n",
       "      <td>2023</td>\n",
       "      <td>1</td>\n",
       "      <td>6</td>\n",
       "      <td>19</td>\n",
       "      <td>50</td>\n",
       "    </tr>\n",
       "    <tr>\n",
       "      <th>...</th>\n",
       "      <td>...</td>\n",
       "      <td>...</td>\n",
       "      <td>...</td>\n",
       "      <td>...</td>\n",
       "      <td>...</td>\n",
       "      <td>...</td>\n",
       "      <td>...</td>\n",
       "      <td>...</td>\n",
       "      <td>...</td>\n",
       "    </tr>\n",
       "    <tr>\n",
       "      <th>16084</th>\n",
       "      <td>2022-12-09 04:06:00</td>\n",
       "      <td>395.2927196213282</td>\n",
       "      <td>395.014015</td>\n",
       "      <td>-0.189121</td>\n",
       "      <td>2022</td>\n",
       "      <td>12</td>\n",
       "      <td>9</td>\n",
       "      <td>4</td>\n",
       "      <td>6</td>\n",
       "    </tr>\n",
       "    <tr>\n",
       "      <th>16085</th>\n",
       "      <td>2022-12-09 04:05:00</td>\n",
       "      <td>395.33253456551495</td>\n",
       "      <td>395.292720</td>\n",
       "      <td>0.278705</td>\n",
       "      <td>2022</td>\n",
       "      <td>12</td>\n",
       "      <td>9</td>\n",
       "      <td>4</td>\n",
       "      <td>5</td>\n",
       "    </tr>\n",
       "    <tr>\n",
       "      <th>16086</th>\n",
       "      <td>2022-12-09 04:04:00</td>\n",
       "      <td>395.1633210527215</td>\n",
       "      <td>395.332535</td>\n",
       "      <td>0.039815</td>\n",
       "      <td>2022</td>\n",
       "      <td>12</td>\n",
       "      <td>9</td>\n",
       "      <td>4</td>\n",
       "      <td>4</td>\n",
       "    </tr>\n",
       "    <tr>\n",
       "      <th>16087</th>\n",
       "      <td>2022-12-09 04:02:00</td>\n",
       "      <td>395.1334598445816</td>\n",
       "      <td>395.163321</td>\n",
       "      <td>-0.169214</td>\n",
       "      <td>2022</td>\n",
       "      <td>12</td>\n",
       "      <td>9</td>\n",
       "      <td>4</td>\n",
       "      <td>2</td>\n",
       "    </tr>\n",
       "    <tr>\n",
       "      <th>16088</th>\n",
       "      <td>2022-12-09 04:01:00</td>\n",
       "      <td>395.27281214923494</td>\n",
       "      <td>395.133460</td>\n",
       "      <td>-0.029861</td>\n",
       "      <td>2022</td>\n",
       "      <td>12</td>\n",
       "      <td>9</td>\n",
       "      <td>4</td>\n",
       "      <td>1</td>\n",
       "    </tr>\n",
       "  </tbody>\n",
       "</table>\n",
       "<p>16086 rows × 9 columns</p>\n",
       "</div>"
      ],
      "text/plain": [
       "0                     time               close      before  before_Diff  year  \\\n",
       "3      2023-01-06 19:58:00              387.59  387.580000     0.000000  2023   \n",
       "4      2023-01-06 19:57:00              387.59  387.590000     0.010000  2023   \n",
       "5      2023-01-06 19:54:00               387.6  387.590000     0.000000  2023   \n",
       "6      2023-01-06 19:51:00              387.58  387.600000     0.010000  2023   \n",
       "7      2023-01-06 19:50:00              387.65  387.580000    -0.020000  2023   \n",
       "...                    ...                 ...         ...          ...   ...   \n",
       "16084  2022-12-09 04:06:00   395.2927196213282  395.014015    -0.189121  2022   \n",
       "16085  2022-12-09 04:05:00  395.33253456551495  395.292720     0.278705  2022   \n",
       "16086  2022-12-09 04:04:00   395.1633210527215  395.332535     0.039815  2022   \n",
       "16087  2022-12-09 04:02:00   395.1334598445816  395.163321    -0.169214  2022   \n",
       "16088  2022-12-09 04:01:00  395.27281214923494  395.133460    -0.029861  2022   \n",
       "\n",
       "0      month  days  hour  minutes  \n",
       "3          1     6    19       58  \n",
       "4          1     6    19       57  \n",
       "5          1     6    19       54  \n",
       "6          1     6    19       51  \n",
       "7          1     6    19       50  \n",
       "...      ...   ...   ...      ...  \n",
       "16084     12     9     4        6  \n",
       "16085     12     9     4        5  \n",
       "16086     12     9     4        4  \n",
       "16087     12     9     4        2  \n",
       "16088     12     9     4        1  \n",
       "\n",
       "[16086 rows x 9 columns]"
      ]
     },
     "execution_count": 131,
     "metadata": {},
     "output_type": "execute_result"
    }
   ],
   "source": [
    "\"\"\"----------------------------------CREATION DATAFRAME  -------------------------------------------------------------\"\"\"\n",
    "\n",
    "#AJOUT VALEUR PRECEDENTE ET DIFF TIME \n",
    "df2 = df.iloc[:,[0,4]]\n",
    "df2 = df2.sort_values(by = ['time'],ascending=True)\n",
    "df2.loc[:,'before'] = df2.loc[:,'close'].shift()\n",
    "\n",
    "df2['before']= df2['before'].astype(float)\n",
    "df2.loc[:,'before_Diff'] = df2.loc[:,'before'].diff()\n",
    "df2 = df2.dropna()\n",
    "\n",
    "\n",
    "#FORMATAGE TEMPS \n",
    "import datetime\n",
    "date= np.array(df2['time'])\n",
    "formater = '%Y-%m-%d %H:%M:%S' \n",
    "datetime = [datetime.datetime.strptime(x, formater) for x in date ]\n",
    "\n",
    "year = [int(x.year) for x in datetime]\n",
    "month = [int(x.month) for x in datetime]\n",
    "days = [int(x.day) for x in datetime]\n",
    "hour = [int(x.hour) for x in datetime]\n",
    "minutes = [int(x.minute) for x in datetime]\n",
    "\n",
    "df2[\"year\"],df2[\"month\"],df2[\"days\"],df2[\"hour\"],df2[\"minutes\"] = year,month,days,hour,minutes \n",
    "\n",
    "\n",
    "df2\n"
   ]
  },
  {
   "cell_type": "markdown",
   "id": "7fba5996-6b20-42a4-a4b0-84d64acd2f6f",
   "metadata": {},
   "source": [
    "### TEST PERFORMANCE DIFFERENT MODELE "
   ]
  },
  {
   "cell_type": "code",
   "execution_count": 112,
   "id": "e759f110-4aa2-4857-b767-464aca6403b3",
   "metadata": {},
   "outputs": [],
   "source": [
    "import sklearn.metrics as metrics\n",
    "def regression_results(y_true, y_pred):\n",
    "    # Regression metrics\n",
    "    explained_variance=metrics.explained_variance_score(y_true, y_pred)\n",
    "    mean_absolute_error=metrics.mean_absolute_error(y_true, y_pred) \n",
    "    mse=metrics.mean_squared_error(y_true, y_pred) \n",
    "    mean_squared_log_error=metrics.mean_squared_log_error(y_true, y_pred)\n",
    "    median_absolute_error=metrics.median_absolute_error(y_true, y_pred)\n",
    "    r2=metrics.r2_score(y_true, y_pred)\n",
    "    print('explained_variance: ', round(explained_variance,4))    \n",
    "    print('mean_squared_log_error: ', round(mean_squared_log_error,4))\n",
    "    print('r2: ', round(r2,4))\n",
    "    print('MAE: ', round(mean_absolute_error,4))\n",
    "    print('MSE: ', round(mse,4))\n",
    "    print('RMSE: ', round(np.sqrt(mse),4))"
   ]
  },
  {
   "cell_type": "code",
   "execution_count": 113,
   "id": "5c37d7b2-a86c-40b3-99c8-3b083159b719",
   "metadata": {
    "scrolled": true,
    "tags": []
   },
   "outputs": [
    {
     "name": "stdout",
     "output_type": "stream",
     "text": [
      "resultat en moyenne R2\n",
      "LoR: -23.353255\n",
      "LiR: -0.796083\n"
     ]
    },
    {
     "name": "stderr",
     "output_type": "stream",
     "text": [
      "/Users/godefroyduchalardhotmail.fr/test/anaconda3/lib/python3.9/site-packages/sklearn/linear_model/_logistic.py:814: ConvergenceWarning: lbfgs failed to converge (status=1):\n",
      "STOP: TOTAL NO. of ITERATIONS REACHED LIMIT.\n",
      "\n",
      "Increase the number of iterations (max_iter) or scale the data as shown in:\n",
      "    https://scikit-learn.org/stable/modules/preprocessing.html\n",
      "Please also refer to the documentation for alternative solver options:\n",
      "    https://scikit-learn.org/stable/modules/linear_model.html#logistic-regression\n",
      "  n_iter_i = _check_optimize_result(\n",
      "/Users/godefroyduchalardhotmail.fr/test/anaconda3/lib/python3.9/site-packages/sklearn/linear_model/_logistic.py:814: ConvergenceWarning: lbfgs failed to converge (status=1):\n",
      "STOP: TOTAL NO. of ITERATIONS REACHED LIMIT.\n",
      "\n",
      "Increase the number of iterations (max_iter) or scale the data as shown in:\n",
      "    https://scikit-learn.org/stable/modules/preprocessing.html\n",
      "Please also refer to the documentation for alternative solver options:\n",
      "    https://scikit-learn.org/stable/modules/linear_model.html#logistic-regression\n",
      "  n_iter_i = _check_optimize_result(\n"
     ]
    },
    {
     "name": "stdout",
     "output_type": "stream",
     "text": [
      "NN: -1.022480\n",
      "RF: -3.741270\n",
      "SVR: -36.644242\n"
     ]
    }
   ],
   "source": [
    "from sklearn.model_selection import TimeSeriesSplit\n",
    "from sklearn.linear_model import LinearRegression\n",
    "from sklearn.neural_network import MLPRegressor\n",
    "from sklearn.neighbors import KNeighborsRegressor\n",
    "from sklearn.svm import SVR\n",
    "from sklearn.model_selection import cross_val_score\n",
    "from sklearn.ensemble import RandomForestRegressor\n",
    "\n",
    "models = []\n",
    "\n",
    "models.append(('LoR',LogisticRegression(random_state=0)))\n",
    "models.append(('LiR', LinearRegression()))\n",
    "models.append(('NN', MLPRegressor(solver = 'lbfgs')))  #neural network\n",
    "models.append(('RF', RandomForestRegressor(n_estimators = 10)))\n",
    "#models.append(('KNN', KNeighborsRegressor())) \n",
    "models.append(('SVR', SVR(gamma='auto'))) # kernel = linear\n",
    "# Evaluate each model in turn\n",
    "results = []\n",
    "names = []\n",
    "print(\"resultat en moyenne R2\")\n",
    "for name, model in models:\n",
    "    # TimeSeries Cross validation\n",
    "    tscv = TimeSeriesSplit(n_splits=2)\n",
    "    cv_results = cross_val_score(model, X_train, Y_train, cv=tscv, scoring='neg_mean_squared_error')  #'neg_mean_squared_error'\n",
    "    results.append(cv_results)\n",
    "    names.append(name)\n",
    "    \n",
    "    print('%s: %f' % (name, cv_results.mean()))\n",
    "    \n"
   ]
  },
  {
   "cell_type": "markdown",
   "id": "cfaa8441-d270-4888-8627-4b97ee75ee9f",
   "metadata": {},
   "source": [
    "### MODELE LE PLUS PERFORMANT LINEAR REGRESSION ET RANDOM FOREST"
   ]
  },
  {
   "cell_type": "code",
   "execution_count": 114,
   "id": "95811bdf-bb5c-4a2e-9f51-8312a7b71595",
   "metadata": {},
   "outputs": [
    {
     "name": "stdout",
     "output_type": "stream",
     "text": [
      "268 268\n",
      "67 67\n"
     ]
    }
   ],
   "source": [
    "from sklearn.linear_model import LogisticRegression\n",
    "from sklearn.metrics import mean_squared_error\n",
    "from sklearn.metrics import r2_score\n",
    "import numpy as np\n",
    "\n",
    "X =  df3.drop(['close'], axis = 1)\n",
    "Y = df3['close']\n",
    "\n",
    "cut = round(0.80*len(X))\n",
    "\n",
    "X_train = X[0:cut]\n",
    "X_test = X[cut:len(X)]\n",
    "Y_train = Y[0:cut]\n",
    "Y_test = Y[cut:len(Y)]\n",
    "\n",
    "print(len(X_train),len(Y_train))\n",
    "print(len(X_test),len(Y_test))"
   ]
  },
  {
   "cell_type": "code",
   "execution_count": 115,
   "id": "46199d72-fc45-4027-8f3a-8d760daa53d3",
   "metadata": {},
   "outputs": [
    {
     "name": "stdout",
     "output_type": "stream",
     "text": [
      "explained_variance:  0.811\n",
      "mean_squared_log_error:  0.0\n",
      "r2:  0.8106\n",
      "MAE:  0.7013\n",
      "MSE:  0.8889\n",
      "RMSE:  0.9428\n"
     ]
    },
    {
     "data": {
      "text/plain": [
       "<matplotlib.legend.Legend at 0x7fa1bc7e3f10>"
      ]
     },
     "execution_count": 115,
     "metadata": {},
     "output_type": "execute_result"
    },
    {
     "data": {
      "image/png": "[encoded data removed]",
      "text/plain": [
       "<Figure size 1080x720 with 1 Axes>"
      ]
     },
     "metadata": {
      "needs_background": "light"
     },
     "output_type": "display_data"
    }
   ],
   "source": [
    "clf = RandomForestRegressor(n_estimators = 10).fit(X_train, Y_train)\n",
    "y_pred= clf.predict(X_test)\n",
    "regression_results(Y_test, y_pred)\n",
    "\n",
    "\n",
    "plt.figure(figsize=(15,10))\n",
    "plt.plot([round(x) for x in range(len(y_pred))],y_pred, label=\"Y_predit\")\n",
    "plt.plot([round(x) for x in range(len(y_pred))], Y_test, label='Y_true')\n",
    "plt.legend()"
   ]
  },
  {
   "cell_type": "code",
   "execution_count": 116,
   "id": "06e7e8df-279d-4ead-8bdd-4fad12fcf592",
   "metadata": {},
   "outputs": [
    {
     "name": "stdout",
     "output_type": "stream",
     "text": [
      "explained_variance:  0.8576\n",
      "mean_squared_log_error:  0.0\n",
      "r2:  0.818\n",
      "MAE:  0.7247\n",
      "MSE:  0.8545\n",
      "RMSE:  0.9244\n",
      "434.5195772141239\n",
      "67\n"
     ]
    },
    {
     "data": {
      "text/plain": [
       "<matplotlib.legend.Legend at 0x7fa1bd282af0>"
      ]
     },
     "execution_count": 116,
     "metadata": {},
     "output_type": "execute_result"
    },
    {
     "data": {
      "image/png": "[encoded data removed]",
      "text/plain": [
       "<Figure size 1080x720 with 1 Axes>"
      ]
     },
     "metadata": {
      "needs_background": "light"
     },
     "output_type": "display_data"
    }
   ],
   "source": [
    "clf = LinearRegression().fit(X_train, Y_train)\n",
    "y_pred= clf.predict(X_test)\n",
    "regression_results(Y_test, y_pred)\n",
    "\n",
    "\n",
    "print(y_pred.min())\n",
    "print(len(y_pred))\n",
    "\n",
    "plt.figure(figsize=(15,10))\n",
    "plt.plot([round(x) for x in range(len(y_pred))],y_pred, label=\"Y_predit\")\n",
    "plt.plot([round(x) for x in range(len(y_pred))], Y_test, label='Y_true')\n",
    "plt.legend()"
   ]
  },
  {
   "cell_type": "markdown",
   "id": "a092d55b-d4e9-4bda-9861-cc9c5093606c",
   "metadata": {},
   "source": [
    "### TIME SERIE "
   ]
  },
  {
   "cell_type": "code",
   "execution_count": 9,
   "id": "faa811ba-3787-4fbe-9086-4b7ba7586c6d",
   "metadata": {},
   "outputs": [
    {
     "data": {
      "text/html": [
       "<div>\n",
       "<style scoped>\n",
       "    .dataframe tbody tr th:only-of-type {\n",
       "        vertical-align: middle;\n",
       "    }\n",
       "\n",
       "    .dataframe tbody tr th {\n",
       "        vertical-align: top;\n",
       "    }\n",
       "\n",
       "    .dataframe thead th {\n",
       "        text-align: right;\n",
       "    }\n",
       "</style>\n",
       "<table border=\"1\" class=\"dataframe\">\n",
       "  <thead>\n",
       "    <tr style=\"text-align: right;\">\n",
       "      <th></th>\n",
       "      <th>close</th>\n",
       "    </tr>\n",
       "  </thead>\n",
       "  <tbody>\n",
       "    <tr>\n",
       "      <th>0</th>\n",
       "      <td>395.50174807830825</td>\n",
       "    </tr>\n",
       "    <tr>\n",
       "      <th>1</th>\n",
       "      <td>395.2429509410949</td>\n",
       "    </tr>\n",
       "    <tr>\n",
       "      <th>2</th>\n",
       "      <td>394.9443388596948</td>\n",
       "    </tr>\n",
       "    <tr>\n",
       "      <th>3</th>\n",
       "      <td>395.07373742830157</td>\n",
       "    </tr>\n",
       "    <tr>\n",
       "      <th>4</th>\n",
       "      <td>395.3623957736549</td>\n",
       "    </tr>\n",
       "    <tr>\n",
       "      <th>...</th>\n",
       "      <td>...</td>\n",
       "    </tr>\n",
       "    <tr>\n",
       "      <th>1090</th>\n",
       "      <td>383.25</td>\n",
       "    </tr>\n",
       "    <tr>\n",
       "      <th>1091</th>\n",
       "      <td>383.15</td>\n",
       "    </tr>\n",
       "    <tr>\n",
       "      <th>1092</th>\n",
       "      <td>383.6</td>\n",
       "    </tr>\n",
       "    <tr>\n",
       "      <th>1093</th>\n",
       "      <td>383.65</td>\n",
       "    </tr>\n",
       "    <tr>\n",
       "      <th>1094</th>\n",
       "      <td>383.87</td>\n",
       "    </tr>\n",
       "  </tbody>\n",
       "</table>\n",
       "<p>1095 rows × 1 columns</p>\n",
       "</div>"
      ],
      "text/plain": [
       "0                  close\n",
       "0     395.50174807830825\n",
       "1      395.2429509410949\n",
       "2      394.9443388596948\n",
       "3     395.07373742830157\n",
       "4      395.3623957736549\n",
       "...                  ...\n",
       "1090              383.25\n",
       "1091              383.15\n",
       "1092               383.6\n",
       "1093              383.65\n",
       "1094              383.87\n",
       "\n",
       "[1095 rows x 1 columns]"
      ]
     },
     "execution_count": 9,
     "metadata": {},
     "output_type": "execute_result"
    }
   ],
   "source": [
    "import numpy as np \n",
    "df_time = df.iloc[:,[0,4]]\n",
    "df_time = df_time.sort_values(by = ['time'],ascending=True)\n",
    "df_time = df_time.reset_index(drop = True)\n",
    "\n",
    "\n",
    "df_time =  df_time.drop(['time'], axis = 1)\n",
    "\n",
    "\n",
    "cut = round(0.90*len(np.array(df_time)))\n",
    "df_train = df_time[0:cut]\n",
    "df_test = df_time[0:cut]\n",
    "df_train\n",
    "\n",
    "\n",
    "#df_time[\"suite\"] = [x for x in range(1,len(df_time['close'])+1)]\n",
    "#df_time = df_time[df_time.columns[::-1]]"
   ]
  },
  {
   "cell_type": "code",
   "execution_count": 48,
   "id": "d3b2c6c8-c734-4b72-98d8-47db60f09f70",
   "metadata": {},
   "outputs": [
    {
     "data": {
      "text/html": [
       "<table class=\"simpletable\">\n",
       "<caption>SARIMAX Results</caption>\n",
       "<tr>\n",
       "  <th>Dep. Variable:</th>         <td>close</td>      <th>  No. Observations:  </th>   <td>1095</td>   \n",
       "</tr>\n",
       "<tr>\n",
       "  <th>Model:</th>                 <td>ARIMA</td>      <th>  Log Likelihood     </th> <td>-3685.850</td>\n",
       "</tr>\n",
       "<tr>\n",
       "  <th>Date:</th>            <td>Sun, 08 Jan 2023</td> <th>  AIC                </th> <td>7375.700</td> \n",
       "</tr>\n",
       "<tr>\n",
       "  <th>Time:</th>                <td>17:49:28</td>     <th>  BIC                </th> <td>7385.697</td> \n",
       "</tr>\n",
       "<tr>\n",
       "  <th>Sample:</th>                  <td>0</td>        <th>  HQIC               </th> <td>7379.483</td> \n",
       "</tr>\n",
       "<tr>\n",
       "  <th></th>                      <td> - 1095</td>     <th>                     </th>     <td> </td>    \n",
       "</tr>\n",
       "<tr>\n",
       "  <th>Covariance Type:</th>        <td>opg</td>       <th>                     </th>     <td> </td>    \n",
       "</tr>\n",
       "</table>\n",
       "<table class=\"simpletable\">\n",
       "<tr>\n",
       "     <td></td>       <th>coef</th>     <th>std err</th>      <th>z</th>      <th>P>|z|</th>  <th>[0.025</th>    <th>0.975]</th>  \n",
       "</tr>\n",
       "<tr>\n",
       "  <th>const</th>  <td>  386.0059</td> <td>    0.317</td> <td> 1215.833</td> <td> 0.000</td> <td>  385.384</td> <td>  386.628</td>\n",
       "</tr>\n",
       "<tr>\n",
       "  <th>sigma2</th> <td>   49.1203</td> <td>    3.123</td> <td>   15.728</td> <td> 0.000</td> <td>   42.999</td> <td>   55.242</td>\n",
       "</tr>\n",
       "</table>\n",
       "<table class=\"simpletable\">\n",
       "<tr>\n",
       "  <th>Ljung-Box (L1) (Q):</th>     <td>1086.55</td> <th>  Jarque-Bera (JB):  </th> <td>205.67</td>\n",
       "</tr>\n",
       "<tr>\n",
       "  <th>Prob(Q):</th>                 <td>0.00</td>   <th>  Prob(JB):          </th>  <td>0.00</td> \n",
       "</tr>\n",
       "<tr>\n",
       "  <th>Heteroskedasticity (H):</th>  <td>0.23</td>   <th>  Skew:              </th>  <td>1.06</td> \n",
       "</tr>\n",
       "<tr>\n",
       "  <th>Prob(H) (two-sided):</th>     <td>0.00</td>   <th>  Kurtosis:          </th>  <td>3.03</td> \n",
       "</tr>\n",
       "</table><br/><br/>Warnings:<br/>[1] Covariance matrix calculated using the outer product of gradients (complex-step)."
      ],
      "text/plain": [
       "<class 'statsmodels.iolib.summary.Summary'>\n",
       "\"\"\"\n",
       "                               SARIMAX Results                                \n",
       "==============================================================================\n",
       "Dep. Variable:                  close   No. Observations:                 1095\n",
       "Model:                          ARIMA   Log Likelihood               -3685.850\n",
       "Date:                Sun, 08 Jan 2023   AIC                           7375.700\n",
       "Time:                        17:49:28   BIC                           7385.697\n",
       "Sample:                             0   HQIC                          7379.483\n",
       "                               - 1095                                         \n",
       "Covariance Type:                  opg                                         \n",
       "==============================================================================\n",
       "                 coef    std err          z      P>|z|      [0.025      0.975]\n",
       "------------------------------------------------------------------------------\n",
       "const        386.0059      0.317   1215.833      0.000     385.384     386.628\n",
       "sigma2        49.1203      3.123     15.728      0.000      42.999      55.242\n",
       "===================================================================================\n",
       "Ljung-Box (L1) (Q):                1086.55   Jarque-Bera (JB):               205.67\n",
       "Prob(Q):                              0.00   Prob(JB):                         0.00\n",
       "Heteroskedasticity (H):               0.23   Skew:                             1.06\n",
       "Prob(H) (two-sided):                  0.00   Kurtosis:                         3.03\n",
       "===================================================================================\n",
       "\n",
       "Warnings:\n",
       "[1] Covariance matrix calculated using the outer product of gradients (complex-step).\n",
       "\"\"\""
      ]
     },
     "execution_count": 48,
     "metadata": {},
     "output_type": "execute_result"
    }
   ],
   "source": [
    "from statsmodels.tsa.arima.model import ARIMA\n",
    "model = ARIMA(df_train.astype(float))\n",
    "results = model.fit()\n",
    "results.summary()\n",
    "#plt.plot(df_train)\n",
    "#plt.plot(results.fittedvalues, color='red')\n",
    "\n",
    "#prediction = model_fit.predict(df_train)\n",
    "#print(model_fit.summary())"
   ]
  },
  {
   "cell_type": "code",
   "execution_count": 28,
   "id": "abb52883-6043-4968-8ca0-1a9e4d9cee7a",
   "metadata": {},
   "outputs": [
    {
     "data": {
      "image/png": "[encoded data removed]",
      "text/plain": [
       "<Figure size 432x288 with 1 Axes>"
      ]
     },
     "metadata": {
      "needs_background": "light"
     },
     "output_type": "display_data"
    },
    {
     "data": {
      "image/png": "[encoded data removed]",
      "text/plain": [
       "<Figure size 432x288 with 1 Axes>"
      ]
     },
     "metadata": {
      "needs_background": "light"
     },
     "output_type": "display_data"
    },
    {
     "name": "stdout",
     "output_type": "stream",
     "text": [
      "                 0\n",
      "count  1095.000000\n",
      "mean      0.000005\n",
      "std       7.011780\n",
      "min     -10.515883\n",
      "25%      -4.828383\n",
      "50%      -2.905883\n",
      "75%       5.121199\n",
      "max      23.331559\n"
     ]
    }
   ],
   "source": [
    "from matplotlib import pyplot\n",
    "residuals = pd.DataFrame(model_fit.resid)\n",
    "residuals.plot()\n",
    "pyplot.show()\n",
    "# density plot of residuals\n",
    "residuals.plot(kind='kde')\n",
    "pyplot.show()\n",
    "# summary stats of residuals\n",
    "print(residuals.describe())"
   ]
  },
  {
   "cell_type": "code",
   "execution_count": 49,
   "id": "20398575-ac3a-4453-b91c-2a7f524ef110",
   "metadata": {},
   "outputs": [
    {
     "data": {
      "text/plain": [
       "<matplotlib.legend.Legend at 0x7f80f9093bb0>"
      ]
     },
     "execution_count": 49,
     "metadata": {},
     "output_type": "execute_result"
    },
    {
     "data": {
      "image/png": "[encoded data removed]",
      "text/plain": [
       "<Figure size 1080x720 with 1 Axes>"
      ]
     },
     "metadata": {
      "needs_background": "light"
     },
     "output_type": "display_data"
    }
   ],
   "source": [
    "df_t = pd.DataFrame()\n",
    "df_time1 = np.array(df_time[\"close\"])[1095:1151]\n",
    "df_t['forecast']=results.predict(start=1095,end=1150,dynamic=True)\n",
    "\n",
    "plt.figure(figsize=(15,10))\n",
    "plt.plot(df_t['forecast'], label=\"Y_predit\")\n",
    "plt.plot(df_t, label='Y_true')\n",
    "plt.legend()\n"
   ]
  },
  {
   "cell_type": "code",
   "execution_count": null,
   "id": "2b823122-0a1b-4224-8e66-ee919b2e578c",
   "metadata": {},
   "outputs": [],
   "source": []
  }
 ],
 "metadata": {
  "kernelspec": {
   "display_name": "Python 3 (ipykernel)",
   "language": "python",
   "name": "python3"
  },
  "language_info": {
   "codemirror_mode": {
    "name": "ipython",
    "version": 3
   },
   "file_extension": ".py",
   "mimetype": "text/x-python",
   "name": "python",
   "nbconvert_exporter": "python",
   "pygments_lexer": "ipython3",
   "version": "3.9.12"
  }
 },
 "nbformat": 4,
 "nbformat_minor": 5
}
